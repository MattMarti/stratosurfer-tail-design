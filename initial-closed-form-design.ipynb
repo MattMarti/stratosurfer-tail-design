{
 "cells": [
  {
   "cell_type": "markdown",
   "id": "dd76673b",
   "metadata": {},
   "source": [
    "# Initial Closed Form Design\n",
    "\n",
    "My goal is to create a V-tail to print for the Stratosurfer. First thing should be to take a look at the Stratosurfer's wing dimensions in order to start outlining the requirements for the tail section."
   ]
  }
 ],
 "metadata": {
  "kernelspec": {
   "display_name": "Python 3 (ipykernel)",
   "language": "python",
   "name": "python3"
  },
  "language_info": {
   "codemirror_mode": {
    "name": "ipython",
    "version": 3
   },
   "file_extension": ".py",
   "mimetype": "text/x-python",
   "name": "python",
   "nbconvert_exporter": "python",
   "pygments_lexer": "ipython3",
   "version": "3.10.2"
  }
 },
 "nbformat": 4,
 "nbformat_minor": 5
}
