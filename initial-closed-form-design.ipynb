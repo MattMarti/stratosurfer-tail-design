{
 "cells": [
  {
   "cell_type": "markdown",
   "id": "dd76673b",
   "metadata": {},
   "source": [
    "# Initial Closed Form Design\n",
    "\n",
    "My goal is to create a V-tail to print for the Stratosurfer. First thing should be to take a look at the Stratosurfer's wing dimensions in order to start outlining the requirements for the tail section."
   ]
  },
  {
   "cell_type": "markdown",
   "id": "b5f56663",
   "metadata": {},
   "source": [
    "I will start out by trying to find some measurements of the Stratosurfer. What I can't measure, I will assume. A good place to start is [Mark Qvale's website](http://www.itsqv.com/QVM/index.php?title=Strix_StratoSurfer), where he graciously provides some dimensions. I'll list them here in code and have them saved to a file for future use."
   ]
  },
  {
   "cell_type": "code",
   "execution_count": 7,
   "id": "ef2f3339",
   "metadata": {},
   "outputs": [],
   "source": [
    "itsqv_config = {\n",
    "    \"b_m\": 1.500, # Wingspan, meters\n",
    "    \"S_m\": 0.0274, # Wing area, meters squared\n",
    "    \"length_m\": 1.000, # Fuse length, meters\n",
    "    \"wieght_kg\": 1.800, # Assumed weight\n",
    "    \"cg_wing_m\": 0.0675, # Center of gravity from wing root\n",
    "}\n",
    "\n",
    "import os\n",
    "import yaml\n",
    "\n",
    "os.makedirs(\"data\", exist_ok=True)\n",
    "with open(\"data/itsqv-dimensions.yaml\", \"w\") as fid:\n",
    "    yaml.dump(itsqv_config, fid)"
   ]
  },
  {
   "cell_type": "markdown",
   "id": "87fcb993",
   "metadata": {},
   "source": [
    "Here we have the dimensions of the wing, but we don't have information about the lift-slope curve $\\partial C_L / \\partial \\alpha_w$, which we need in order to design the tail. I measured the cross section of the wing by wrapping the wing with paper-mache, letting it dry, and tracing the interior. I used my [airfoil plotter](https://github.com/MattMarti/airfoil-plotter) to plot out the diagram and approximate it with a NACA airfoil. I found that it looked approximately like a **NACA 4410** airfoil. Unfortunately, the [NACA airfoil database](http://airfoiltools.com/search/index?m%5Bgrp%5D=naca4d&m%5Bsort%5D=1&MAirfoilSearchForm%5BtextSearch%5D=5408&MAirfoilSearchForm%5BmaxThickness%5D=&MAirfoilSearchForm%5BminThickness%5D=&MAirfoilSearchForm%5BmaxCamber%5D=&MAirfoilSearchForm%5BminCamber%5D=&MAirfoilSearchForm%5Bgrp%5D=naca4d&MAirfoilSearchForm%5Bsort%5D=1&yt0=Search) doesn't have this airfoil. However, I can use [xfoil](https://web.mit.edu/drela/Public/web/xfoil/) to try to get information about the coefficient of lift."
   ]
  },
  {
   "cell_type": "markdown",
   "id": "1dc99e6a",
   "metadata": {},
   "source": [
    "## XFOIL Wing Analysis\n",
    "\n",
    "I will use [XFOIL](https://web.mit.edu/drela/Public/web/xfoil/) to try to get the coefficient of lift and drag (as a function of angle of attack) from the airfoil of the main wing. These parameters will be important to have to design the tail section.\n",
    "\n",
    "\n",
    "I'll document my inputs to the program here for future reference:\n",
    "\n",
    "1. `NACA 4410` - Set the airfoil to the 4-digit **4410** since that's about what the airfoil looks like\n",
    "1. `PPAR` - Open the options menu\n",
    "1. `N 250` - Set the number of panel nodes to 250. Seems pretty high, and the array limit in my version of XFOIL is 494, so I can't use 500. I'll check out whether decreasing the number of points causes it to converge to different results and report on it anecdotally.\n",
    "1. `<cr>` - Hit enter to exit `PPAR` menu.\n",
    "1. `<cr>` - Hit enter again to actually exit `PPAR` menu.\n",
    "1. `oper` - Open the \"Direct Operating Points\" menu.\n",
    "1. `visc 1` - Toggle viscous mode on\n",
    "1. `mach  0.0669` - Set Mach Number. See below for details on how I got this number.\n",
    "1. `re 308639` - Set Reynold's Number. See below for details on how I got this number.\n",
    "\n"
   ]
  },
  {
   "cell_type": "markdown",
   "id": "5c43d2db",
   "metadata": {},
   "source": [
    "### Mach Number\n",
    "\n",
    "I need to make some assumptions about where I'll be flying. I live at an altitude of about 650 m, but I plan to travel to fly. I'll do my analysis for 1000 m above sea level, but I'd like to return to study the flight envelope at maybe 3000 m in case I decide to go somewhere cool in Colorado. Legally, I can't fly above 400 ft, but I live in a mountainous area so it'd be good to have a little flexibility after the analysis.\n",
    "\n",
    "\n",
    "\n",
    "For speed, let's assume 50 mph, or about 22.5 m/s. It's a rough conversion, but hey, it's an assumption anyway. Eventually I need to take a look at what the stall speed is, and the max speed. Here's the stats:\n",
    "\n",
    "- $v_\\infty$ = 22.5 [m/s]\n",
    "- $h_{alt}$ = 1000 [m/s]\n",
    "\n",
    "\n",
    "Looking up in the standard atmosphere table \\[Anderson J., Introduction to Flight, eighth edition, 2016\\], I find that the freestream temperature, pressure, and density are:\n",
    "\n",
    "\n",
    "- $T_\\infty$ = 281.66 [K]\n",
    "- $p_\\infty$ = 8.9876e4 [N/m^2]\n",
    "- $\\rho_\\infty$ = 1.1117 [kg/m^3]\n",
    "\n",
    "\n",
    "Then the Mach number is:\n",
    "\n",
    "\n",
    "$ M_\\infty = \\frac{v_\\infty}{\\sqrt{\\gamma R T_\\infty}} $\n",
    "\n",
    "\n",
    "And it's air, so the ratio of specific heats is $1.4$, and the gas constant is $R = 287.05 [J/(kg K)]$"
   ]
  },
  {
   "cell_type": "code",
   "execution_count": 6,
   "id": "afd3f8b1",
   "metadata": {},
   "outputs": [
    {
     "name": "stdout",
     "output_type": "stream",
     "text": [
      "Mach number: 0.0669\n"
     ]
    }
   ],
   "source": [
    "import numpy as np\n",
    "\n",
    "gamma = 1.4\n",
    "R = 287.05\n",
    "T_inf_K = 281.66\n",
    "v_inf_ms = 22.5\n",
    "\n",
    "M_inf = v_inf_ms / np.sqrt(1.4 * R * T_inf_K)\n",
    "print(f\"Mach number: {M_inf:.4f}\")"
   ]
  },
  {
   "cell_type": "markdown",
   "id": "b5bbed7b",
   "metadata": {},
   "source": [
    "### Reyonld's Number\n",
    "\n",
    "I'm going to have to make a couple of assumptions here as well. I can refer to my measurements of the airfoil from earlier. The equation for Reynold's Number of an airfoil is:\n",
    "\n",
    "\n",
    "$ Re = \\frac{\\rho_\\infty v_\\infty c}{\\mu} $\n",
    "\n",
    "\n",
    "We can [look up the dynamic viscocity](https://www.engineersedge.com/physics/viscosity_of_air_dynamic_and_kinematic_14483.htm#:~:text=The%20viscosity%20of%20air%20depends,10%2D5%20Pa%C2%B7s%20.) of air and find $\\mu = 1.778e-5$ (at $10^\\circ C$). We already have the density and freestream velocity. The chord length $c$ was measured when I made the paper mache wrap, and on the Stratosurfer is 215 mm. However, the airfoil plotter tool shows that 215 mm is about 98% of the total airfoil length because the ends don't meet in the back."
   ]
  },
  {
   "cell_type": "code",
   "execution_count": 10,
   "id": "f88d9301",
   "metadata": {},
   "outputs": [
    {
     "name": "stdout",
     "output_type": "stream",
     "text": [
      "Reynold's Number: 308639\n"
     ]
    }
   ],
   "source": [
    "rho_inf_si = 1.1117 # Whatever the SI units are\n",
    "mu = 1.778e-5\n",
    "\n",
    "c_m = 0.215 / 0.98\n",
    "\n",
    "Re = rho_inf_si * v_inf_ms * c_m / mu\n",
    "print(f\"Reynold's Number: {Re:.0f}\")"
   ]
  }
 ],
 "metadata": {
  "kernelspec": {
   "display_name": "Python 3 (ipykernel)",
   "language": "python",
   "name": "python3"
  },
  "language_info": {
   "codemirror_mode": {
    "name": "ipython",
    "version": 3
   },
   "file_extension": ".py",
   "mimetype": "text/x-python",
   "name": "python",
   "nbconvert_exporter": "python",
   "pygments_lexer": "ipython3",
   "version": "3.10.2"
  }
 },
 "nbformat": 4,
 "nbformat_minor": 5
}
