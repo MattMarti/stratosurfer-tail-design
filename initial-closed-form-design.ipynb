{
 "cells": [
  {
   "cell_type": "markdown",
   "id": "dd76673b",
   "metadata": {},
   "source": [
    "# Initial Closed Form Design\n",
    "\n",
    "My goal is to create a V-tail to print for the Stratosurfer. First thing should be to take a look at the Stratosurfer's wing dimensions in order to start outlining the requirements for the tail section."
   ]
  },
  {
   "cell_type": "markdown",
   "id": "b5f56663",
   "metadata": {},
   "source": [
    "I will start out by trying to find some measurements of the Stratosurfer. What I can't measure, I will assume. A good place to start is [Mark Qvale's website](http://www.itsqv.com/QVM/index.php?title=Strix_StratoSurfer), where he graciously provides some dimensions. I'll list them here in code and have them saved to a file for future use."
   ]
  },
  {
   "cell_type": "code",
   "execution_count": 7,
   "id": "ef2f3339",
   "metadata": {},
   "outputs": [],
   "source": [
    "itsqv_config = {\n",
    "    \"b_m\": 1.500, # Wingspan, meters\n",
    "    \"S_m\": 0.0274, # Wing area, meters squared\n",
    "    \"length_m\": 1.000, # Fuse length, meters\n",
    "    \"wieght_kg\": 1.800, # Assumed weight\n",
    "    \"cg_wing_m\": 0.0675, # Center of gravity from wing root\n",
    "}\n",
    "\n",
    "import os\n",
    "import yaml\n",
    "\n",
    "os.makedirs(\"data\", exist_ok=True)\n",
    "with open(\"data/itsqv-dimensions.yaml\", \"w\") as fid:\n",
    "    yaml.dump(itsqv_config, fid)"
   ]
  },
  {
   "cell_type": "markdown",
   "id": "87fcb993",
   "metadata": {},
   "source": [
    "Here we have the dimensions of the wing, but we don't have information about the lift-slope curve $\\partial C_L / \\partial \\alpha_w$, which we need in order to design the tail. I measured the cross section of the wing by wrapping the wing with paper-mache, letting it dry, and tracing the interior. I used my [airfoil plotter](https://github.com/MattMarti/airfoil-plotter) to plot out the diagram and approximate it with a NACA airfoil. I found that it looked approximately like a NACA 5408 airfoil. Unfortunately, the [NACA airfoil database](http://airfoiltools.com/search/index?m%5Bgrp%5D=naca4d&m%5Bsort%5D=1&MAirfoilSearchForm%5BtextSearch%5D=5408&MAirfoilSearchForm%5BmaxThickness%5D=&MAirfoilSearchForm%5BminThickness%5D=&MAirfoilSearchForm%5BmaxCamber%5D=&MAirfoilSearchForm%5BminCamber%5D=&MAirfoilSearchForm%5Bgrp%5D=naca4d&MAirfoilSearchForm%5Bsort%5D=1&yt0=Search) doesn't have this airfoil. However, I can use [xfoil](https://web.mit.edu/drela/Public/web/xfoil/) to try to get information about the coefficient of lift."
   ]
  }
 ],
 "metadata": {
  "kernelspec": {
   "display_name": "Python 3 (ipykernel)",
   "language": "python",
   "name": "python3"
  },
  "language_info": {
   "codemirror_mode": {
    "name": "ipython",
    "version": 3
   },
   "file_extension": ".py",
   "mimetype": "text/x-python",
   "name": "python",
   "nbconvert_exporter": "python",
   "pygments_lexer": "ipython3",
   "version": "3.8.7"
  }
 },
 "nbformat": 4,
 "nbformat_minor": 5
}
